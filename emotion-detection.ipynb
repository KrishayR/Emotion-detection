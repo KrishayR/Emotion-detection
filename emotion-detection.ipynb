{
 "cells": [
  {
   "cell_type": "code",
   "execution_count": null,
   "metadata": {},
   "outputs": [],
   "source": [
    "from keras.models import load_model\n",
    "from time import sleep\n",
    "from keras.preprocessing.image import img_to_array\n",
    "from keras.preprocessing import image\n",
    "import cv2 as c\n",
    "import numpy as np\n",
    "\n",
    "face_classifier = c.CascadeClassifier('haarcascade_frontalface_default.xml')\n",
    "classifier = load_model('Emotion_Detection.h5')\n",
    "\n",
    "class_labels = ['Angry','Happy','Neutral','Sad','Surprised']\n",
    "\n",
    "cap = c.VideoCapture(0)\n",
    "\n",
    "\n",
    "\n",
    "while True:\n",
    "    # Grab a single frame of video\n",
    "    ret, frame = cap.read()\n",
    "    labels = []\n",
    "    gray = c.cvtColor(frame,c.COLOR_BGR2GRAY)\n",
    "    faces = face_classifier.detectMultiScale(gray,1.3,5)\n",
    "\n",
    "    for (x,y,w,h) in faces:\n",
    "        c.rectangle(frame,(x,y),(x+w,y+h),(0,0,0),10)\n",
    "        roi_gray = gray[y:y+h,x:x+w]\n",
    "        roi_gray = c.resize(roi_gray,(48,48),interpolation=c.INTER_AREA)\n",
    "\n",
    "\n",
    "        if np.sum([roi_gray])!=0:\n",
    "            roi = roi_gray.astype('float')/255.0\n",
    "            roi = img_to_array(roi)\n",
    "            roi = np.expand_dims(roi,axis=0)\n",
    "\n",
    "\n",
    "            preds = classifier.predict(roi)[0]\n",
    "            #print(\"\\nprediction = \",preds)\n",
    "            label=class_labels[preds.argmax()]\n",
    "            #print(\"\\nprediction max = \",preds.argmax())\n",
    "            #print(\"\\nlabel = \",label)\n",
    "            label_position = (x,y)\n",
    "            c.putText(frame,label,label_position,c.FONT_HERSHEY_SIMPLEX,2,(40, 224, 129),5)\n",
    "        else:\n",
    "            c.putText(frame,'Please make certain there is a face in front of the Camera.',(20,60),c.FONT_HERSHEY_SIMPLEX,2,(40, 224, 129),3)\n",
    "    c.imshow('Emotion Detector',frame)\n",
    "    if c.waitKey(1) & 0xFF == ord('q'):\n",
    "        break\n",
    "\n",
    "cap.release()\n",
    "c.destroyAllWindows()\n"
   ]
  },
  {
   "cell_type": "code",
   "execution_count": null,
   "metadata": {},
   "outputs": [],
   "source": []
  },
  {
   "cell_type": "code",
   "execution_count": null,
   "metadata": {},
   "outputs": [],
   "source": []
  }
 ],
 "metadata": {
  "kernelspec": {
   "display_name": "Python 3",
   "language": "python",
   "name": "python3"
  },
  "language_info": {
   "codemirror_mode": {
    "name": "ipython",
    "version": 3
   },
   "file_extension": ".py",
   "mimetype": "text/x-python",
   "name": "python",
   "nbconvert_exporter": "python",
   "pygments_lexer": "ipython3",
   "version": "3.7.6"
  }
 },
 "nbformat": 4,
 "nbformat_minor": 4
}
